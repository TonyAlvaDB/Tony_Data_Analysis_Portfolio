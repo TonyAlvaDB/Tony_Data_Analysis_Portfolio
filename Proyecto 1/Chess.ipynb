{
 "cells": [
  {
   "cell_type": "markdown",
   "id": "1de63f69-93cc-445c-8fff-21fe432221d3",
   "metadata": {},
   "source": [
    "# Chess games analysis"
   ]
  },
  {
   "cell_type": "markdown",
   "id": "e0af5ef7-6b25-42e8-ad7d-b63a0059efd9",
   "metadata": {},
   "source": [
    "This is a set of just over 20,000 games collected from a selection of users on the site Lichess.org, and how to collect more. I will also upload more games in the future as I collect them."
   ]
  },
  {
   "cell_type": "markdown",
   "id": "93dc9792-669d-4a0f-8fea-7db44175fac1",
   "metadata": {},
   "source": [
    "Here is the description of the variables\n",
    "```\n",
    "id: Unique identifier for each chess game.\n",
    "rated: Indicates whether the game is rated or not (e.g., \"True\" for rated games).\n",
    "created_at: Timestamp for when the game was created.\n",
    "last_move_at: Timestamp for when the last move in the game was made.\n",
    "turns: The total number of moves made in the game.\n",
    "victory_status: Describes the status of the game's outcome (e.g., \"mate,\" \"resign,\" \"draw,\" etc.).\n",
    "winner: Indicates the winner of the game (e.g., \"white,\" \"black,\" or \"draw\").\n",
    "increment_code: The time control increment code for the game.\n",
    "white_id: Unique identifier for the white player in the game.\n",
    "white_rating: The rating of the white player.\n",
    "black_id: Unique identifier for the black player in the game.\n",
    "black_rating: The rating of the black player.\n",
    "moves: A list of moves made in the game, typically in algebraic notation.\n",
    "opening_eco: The opening's classification code (e.g., \"A00\" to \"E99\") based on the Encyclopedia of Chess Openings (ECO).\n",
    "opening_name: The name of the chess opening used in the game.\n",
    "opening_ply: The number of half-moves (plies) played in the opening phase of the game.\n",
    "rating_change: The difference between white piece player and black piece player\n",
    "```\n"
   ]
  },
  {
   "cell_type": "markdown",
   "id": "f8246edb-df21-4fe6-81e5-84df4d4ba74a",
   "metadata": {},
   "source": [
    "For each of these separate games from Lichess. I collected this data using the Lichess API, which enables collection of any given users game history. The difficult part was collecting usernames to use, however the API also enables dumping of all users in a Lichess team. There are several teams on Lichess with over 1,500 players, so this proved an effective way to get users to collect games from."
   ]
  },
  {
   "cell_type": "code",
   "execution_count": 1,
   "id": "900f44ab-6a8f-4534-b16a-1f277d3dd339",
   "metadata": {
    "tags": []
   },
   "outputs": [],
   "source": [
    "import pandas as pd\n",
    "import numpy as np\n",
    "import matplotlib.pyplot as plt"
   ]
  },
  {
   "cell_type": "code",
   "execution_count": 2,
   "id": "fa2e5a42-e0cf-4a23-9d04-0a60596cef00",
   "metadata": {
    "tags": []
   },
   "outputs": [],
   "source": [
    "df = pd.read_csv('games.csv')"
   ]
  },
  {
   "cell_type": "markdown",
   "id": "cce0a57a-9032-4b0b-bb3c-4336fb17ea7d",
   "metadata": {},
   "source": [
    "## Deep look into data"
   ]
  },
  {
   "cell_type": "code",
   "execution_count": 4,
   "id": "3b2edb44-f814-4840-ab2c-3b0a2d52e113",
   "metadata": {
    "tags": []
   },
   "outputs": [
    {
     "data": {
      "text/html": [
       "<div>\n",
       "<style scoped>\n",
       "    .dataframe tbody tr th:only-of-type {\n",
       "        vertical-align: middle;\n",
       "    }\n",
       "\n",
       "    .dataframe tbody tr th {\n",
       "        vertical-align: top;\n",
       "    }\n",
       "\n",
       "    .dataframe thead th {\n",
       "        text-align: right;\n",
       "    }\n",
       "</style>\n",
       "<table border=\"1\" class=\"dataframe\">\n",
       "  <thead>\n",
       "    <tr style=\"text-align: right;\">\n",
       "      <th></th>\n",
       "      <th>id</th>\n",
       "      <th>rated</th>\n",
       "      <th>created_at</th>\n",
       "      <th>last_move_at</th>\n",
       "      <th>turns</th>\n",
       "      <th>victory_status</th>\n",
       "      <th>winner</th>\n",
       "      <th>increment_code</th>\n",
       "      <th>white_id</th>\n",
       "      <th>white_rating</th>\n",
       "      <th>black_id</th>\n",
       "      <th>black_rating</th>\n",
       "      <th>moves</th>\n",
       "      <th>opening_eco</th>\n",
       "      <th>opening_name</th>\n",
       "      <th>opening_ply</th>\n",
       "    </tr>\n",
       "  </thead>\n",
       "  <tbody>\n",
       "    <tr>\n",
       "      <th>0</th>\n",
       "      <td>TZJHLljE</td>\n",
       "      <td>False</td>\n",
       "      <td>1.504210e+12</td>\n",
       "      <td>1.504210e+12</td>\n",
       "      <td>13</td>\n",
       "      <td>outoftime</td>\n",
       "      <td>white</td>\n",
       "      <td>15+2</td>\n",
       "      <td>bourgris</td>\n",
       "      <td>1500</td>\n",
       "      <td>a-00</td>\n",
       "      <td>1191</td>\n",
       "      <td>d4 d5 c4 c6 cxd5 e6 dxe6 fxe6 Nf3 Bb4+ Nc3 Ba5...</td>\n",
       "      <td>D10</td>\n",
       "      <td>Slav Defense: Exchange Variation</td>\n",
       "      <td>5</td>\n",
       "    </tr>\n",
       "    <tr>\n",
       "      <th>1</th>\n",
       "      <td>l1NXvwaE</td>\n",
       "      <td>True</td>\n",
       "      <td>1.504130e+12</td>\n",
       "      <td>1.504130e+12</td>\n",
       "      <td>16</td>\n",
       "      <td>resign</td>\n",
       "      <td>black</td>\n",
       "      <td>5+10</td>\n",
       "      <td>a-00</td>\n",
       "      <td>1322</td>\n",
       "      <td>skinnerua</td>\n",
       "      <td>1261</td>\n",
       "      <td>d4 Nc6 e4 e5 f4 f6 dxe5 fxe5 fxe5 Nxe5 Qd4 Nc6...</td>\n",
       "      <td>B00</td>\n",
       "      <td>Nimzowitsch Defense: Kennedy Variation</td>\n",
       "      <td>4</td>\n",
       "    </tr>\n",
       "    <tr>\n",
       "      <th>2</th>\n",
       "      <td>mIICvQHh</td>\n",
       "      <td>True</td>\n",
       "      <td>1.504130e+12</td>\n",
       "      <td>1.504130e+12</td>\n",
       "      <td>61</td>\n",
       "      <td>mate</td>\n",
       "      <td>white</td>\n",
       "      <td>5+10</td>\n",
       "      <td>ischia</td>\n",
       "      <td>1496</td>\n",
       "      <td>a-00</td>\n",
       "      <td>1500</td>\n",
       "      <td>e4 e5 d3 d6 Be3 c6 Be2 b5 Nd2 a5 a4 c5 axb5 Nc...</td>\n",
       "      <td>C20</td>\n",
       "      <td>King's Pawn Game: Leonardis Variation</td>\n",
       "      <td>3</td>\n",
       "    </tr>\n",
       "    <tr>\n",
       "      <th>3</th>\n",
       "      <td>kWKvrqYL</td>\n",
       "      <td>True</td>\n",
       "      <td>1.504110e+12</td>\n",
       "      <td>1.504110e+12</td>\n",
       "      <td>61</td>\n",
       "      <td>mate</td>\n",
       "      <td>white</td>\n",
       "      <td>20+0</td>\n",
       "      <td>daniamurashov</td>\n",
       "      <td>1439</td>\n",
       "      <td>adivanov2009</td>\n",
       "      <td>1454</td>\n",
       "      <td>d4 d5 Nf3 Bf5 Nc3 Nf6 Bf4 Ng4 e3 Nc6 Be2 Qd7 O...</td>\n",
       "      <td>D02</td>\n",
       "      <td>Queen's Pawn Game: Zukertort Variation</td>\n",
       "      <td>3</td>\n",
       "    </tr>\n",
       "    <tr>\n",
       "      <th>4</th>\n",
       "      <td>9tXo1AUZ</td>\n",
       "      <td>True</td>\n",
       "      <td>1.504030e+12</td>\n",
       "      <td>1.504030e+12</td>\n",
       "      <td>95</td>\n",
       "      <td>mate</td>\n",
       "      <td>white</td>\n",
       "      <td>30+3</td>\n",
       "      <td>nik221107</td>\n",
       "      <td>1523</td>\n",
       "      <td>adivanov2009</td>\n",
       "      <td>1469</td>\n",
       "      <td>e4 e5 Nf3 d6 d4 Nc6 d5 Nb4 a3 Na6 Nc3 Be7 b4 N...</td>\n",
       "      <td>C41</td>\n",
       "      <td>Philidor Defense</td>\n",
       "      <td>5</td>\n",
       "    </tr>\n",
       "  </tbody>\n",
       "</table>\n",
       "</div>"
      ],
      "text/plain": [
       "         id  rated    created_at  last_move_at  turns victory_status winner  \\\n",
       "0  TZJHLljE  False  1.504210e+12  1.504210e+12     13      outoftime  white   \n",
       "1  l1NXvwaE   True  1.504130e+12  1.504130e+12     16         resign  black   \n",
       "2  mIICvQHh   True  1.504130e+12  1.504130e+12     61           mate  white   \n",
       "3  kWKvrqYL   True  1.504110e+12  1.504110e+12     61           mate  white   \n",
       "4  9tXo1AUZ   True  1.504030e+12  1.504030e+12     95           mate  white   \n",
       "\n",
       "  increment_code       white_id  white_rating      black_id  black_rating  \\\n",
       "0           15+2       bourgris          1500          a-00          1191   \n",
       "1           5+10           a-00          1322     skinnerua          1261   \n",
       "2           5+10         ischia          1496          a-00          1500   \n",
       "3           20+0  daniamurashov          1439  adivanov2009          1454   \n",
       "4           30+3      nik221107          1523  adivanov2009          1469   \n",
       "\n",
       "                                               moves opening_eco  \\\n",
       "0  d4 d5 c4 c6 cxd5 e6 dxe6 fxe6 Nf3 Bb4+ Nc3 Ba5...         D10   \n",
       "1  d4 Nc6 e4 e5 f4 f6 dxe5 fxe5 fxe5 Nxe5 Qd4 Nc6...         B00   \n",
       "2  e4 e5 d3 d6 Be3 c6 Be2 b5 Nd2 a5 a4 c5 axb5 Nc...         C20   \n",
       "3  d4 d5 Nf3 Bf5 Nc3 Nf6 Bf4 Ng4 e3 Nc6 Be2 Qd7 O...         D02   \n",
       "4  e4 e5 Nf3 d6 d4 Nc6 d5 Nb4 a3 Na6 Nc3 Be7 b4 N...         C41   \n",
       "\n",
       "                             opening_name  opening_ply  \n",
       "0        Slav Defense: Exchange Variation            5  \n",
       "1  Nimzowitsch Defense: Kennedy Variation            4  \n",
       "2   King's Pawn Game: Leonardis Variation            3  \n",
       "3  Queen's Pawn Game: Zukertort Variation            3  \n",
       "4                        Philidor Defense            5  "
      ]
     },
     "execution_count": 4,
     "metadata": {},
     "output_type": "execute_result"
    }
   ],
   "source": [
    "df.head()"
   ]
  },
  {
   "cell_type": "markdown",
   "id": "16a56375-b507-4a77-a2f1-9de740b31cd3",
   "metadata": {},
   "source": [
    "## Check if there is any null value"
   ]
  },
  {
   "cell_type": "code",
   "execution_count": 6,
   "id": "7d4d4148-9731-49d7-a427-cadb0d255e19",
   "metadata": {
    "tags": []
   },
   "outputs": [
    {
     "data": {
      "text/html": [
       "<div>\n",
       "<style scoped>\n",
       "    .dataframe tbody tr th:only-of-type {\n",
       "        vertical-align: middle;\n",
       "    }\n",
       "\n",
       "    .dataframe tbody tr th {\n",
       "        vertical-align: top;\n",
       "    }\n",
       "\n",
       "    .dataframe thead th {\n",
       "        text-align: right;\n",
       "    }\n",
       "</style>\n",
       "<table border=\"1\" class=\"dataframe\">\n",
       "  <thead>\n",
       "    <tr style=\"text-align: right;\">\n",
       "      <th></th>\n",
       "      <th>id</th>\n",
       "      <th>rated</th>\n",
       "      <th>created_at</th>\n",
       "      <th>last_move_at</th>\n",
       "      <th>turns</th>\n",
       "      <th>victory_status</th>\n",
       "      <th>winner</th>\n",
       "      <th>increment_code</th>\n",
       "      <th>white_id</th>\n",
       "      <th>white_rating</th>\n",
       "      <th>black_id</th>\n",
       "      <th>black_rating</th>\n",
       "      <th>moves</th>\n",
       "      <th>opening_eco</th>\n",
       "      <th>opening_name</th>\n",
       "      <th>opening_ply</th>\n",
       "    </tr>\n",
       "  </thead>\n",
       "  <tbody>\n",
       "  </tbody>\n",
       "</table>\n",
       "</div>"
      ],
      "text/plain": [
       "Empty DataFrame\n",
       "Columns: [id, rated, created_at, last_move_at, turns, victory_status, winner, increment_code, white_id, white_rating, black_id, black_rating, moves, opening_eco, opening_name, opening_ply]\n",
       "Index: []"
      ]
     },
     "execution_count": 6,
     "metadata": {},
     "output_type": "execute_result"
    }
   ],
   "source": [
    "df[df.isnull().any(axis=1)]"
   ]
  },
  {
   "cell_type": "code",
   "execution_count": 9,
   "id": "3a0d08db-59f2-40f2-903c-64c8be456291",
   "metadata": {
    "tags": []
   },
   "outputs": [
    {
     "data": {
      "text/html": [
       "<div>\n",
       "<style scoped>\n",
       "    .dataframe tbody tr th:only-of-type {\n",
       "        vertical-align: middle;\n",
       "    }\n",
       "\n",
       "    .dataframe tbody tr th {\n",
       "        vertical-align: top;\n",
       "    }\n",
       "\n",
       "    .dataframe thead th {\n",
       "        text-align: right;\n",
       "    }\n",
       "</style>\n",
       "<table border=\"1\" class=\"dataframe\">\n",
       "  <thead>\n",
       "    <tr style=\"text-align: right;\">\n",
       "      <th></th>\n",
       "      <th>id</th>\n",
       "      <th>rated</th>\n",
       "      <th>created_at</th>\n",
       "      <th>last_move_at</th>\n",
       "      <th>turns</th>\n",
       "      <th>victory_status</th>\n",
       "      <th>winner</th>\n",
       "      <th>increment_code</th>\n",
       "      <th>white_id</th>\n",
       "      <th>white_rating</th>\n",
       "      <th>black_id</th>\n",
       "      <th>black_rating</th>\n",
       "      <th>moves</th>\n",
       "      <th>opening_eco</th>\n",
       "      <th>opening_name</th>\n",
       "      <th>opening_ply</th>\n",
       "    </tr>\n",
       "  </thead>\n",
       "  <tbody>\n",
       "    <tr>\n",
       "      <th>count</th>\n",
       "      <td>20058</td>\n",
       "      <td>20058</td>\n",
       "      <td>2.005800e+04</td>\n",
       "      <td>2.005800e+04</td>\n",
       "      <td>20058.000000</td>\n",
       "      <td>20058</td>\n",
       "      <td>20058</td>\n",
       "      <td>20058</td>\n",
       "      <td>20058</td>\n",
       "      <td>20058.000000</td>\n",
       "      <td>20058</td>\n",
       "      <td>20058.000000</td>\n",
       "      <td>20058</td>\n",
       "      <td>20058</td>\n",
       "      <td>20058</td>\n",
       "      <td>20058.000000</td>\n",
       "    </tr>\n",
       "    <tr>\n",
       "      <th>unique</th>\n",
       "      <td>19113</td>\n",
       "      <td>2</td>\n",
       "      <td>NaN</td>\n",
       "      <td>NaN</td>\n",
       "      <td>NaN</td>\n",
       "      <td>4</td>\n",
       "      <td>3</td>\n",
       "      <td>400</td>\n",
       "      <td>9438</td>\n",
       "      <td>NaN</td>\n",
       "      <td>9331</td>\n",
       "      <td>NaN</td>\n",
       "      <td>18920</td>\n",
       "      <td>365</td>\n",
       "      <td>1477</td>\n",
       "      <td>NaN</td>\n",
       "    </tr>\n",
       "    <tr>\n",
       "      <th>top</th>\n",
       "      <td>XRuQPSzH</td>\n",
       "      <td>True</td>\n",
       "      <td>NaN</td>\n",
       "      <td>NaN</td>\n",
       "      <td>NaN</td>\n",
       "      <td>resign</td>\n",
       "      <td>white</td>\n",
       "      <td>10+0</td>\n",
       "      <td>taranga</td>\n",
       "      <td>NaN</td>\n",
       "      <td>taranga</td>\n",
       "      <td>NaN</td>\n",
       "      <td>e4 e5</td>\n",
       "      <td>A00</td>\n",
       "      <td>Van't Kruijs Opening</td>\n",
       "      <td>NaN</td>\n",
       "    </tr>\n",
       "    <tr>\n",
       "      <th>freq</th>\n",
       "      <td>5</td>\n",
       "      <td>16155</td>\n",
       "      <td>NaN</td>\n",
       "      <td>NaN</td>\n",
       "      <td>NaN</td>\n",
       "      <td>11147</td>\n",
       "      <td>10001</td>\n",
       "      <td>7721</td>\n",
       "      <td>72</td>\n",
       "      <td>NaN</td>\n",
       "      <td>82</td>\n",
       "      <td>NaN</td>\n",
       "      <td>27</td>\n",
       "      <td>1007</td>\n",
       "      <td>368</td>\n",
       "      <td>NaN</td>\n",
       "    </tr>\n",
       "    <tr>\n",
       "      <th>mean</th>\n",
       "      <td>NaN</td>\n",
       "      <td>NaN</td>\n",
       "      <td>1.483617e+12</td>\n",
       "      <td>1.483618e+12</td>\n",
       "      <td>60.465999</td>\n",
       "      <td>NaN</td>\n",
       "      <td>NaN</td>\n",
       "      <td>NaN</td>\n",
       "      <td>NaN</td>\n",
       "      <td>1596.631868</td>\n",
       "      <td>NaN</td>\n",
       "      <td>1588.831987</td>\n",
       "      <td>NaN</td>\n",
       "      <td>NaN</td>\n",
       "      <td>NaN</td>\n",
       "      <td>4.816981</td>\n",
       "    </tr>\n",
       "    <tr>\n",
       "      <th>std</th>\n",
       "      <td>NaN</td>\n",
       "      <td>NaN</td>\n",
       "      <td>2.850151e+10</td>\n",
       "      <td>2.850140e+10</td>\n",
       "      <td>33.570585</td>\n",
       "      <td>NaN</td>\n",
       "      <td>NaN</td>\n",
       "      <td>NaN</td>\n",
       "      <td>NaN</td>\n",
       "      <td>291.253376</td>\n",
       "      <td>NaN</td>\n",
       "      <td>291.036126</td>\n",
       "      <td>NaN</td>\n",
       "      <td>NaN</td>\n",
       "      <td>NaN</td>\n",
       "      <td>2.797152</td>\n",
       "    </tr>\n",
       "    <tr>\n",
       "      <th>min</th>\n",
       "      <td>NaN</td>\n",
       "      <td>NaN</td>\n",
       "      <td>1.376772e+12</td>\n",
       "      <td>1.376772e+12</td>\n",
       "      <td>1.000000</td>\n",
       "      <td>NaN</td>\n",
       "      <td>NaN</td>\n",
       "      <td>NaN</td>\n",
       "      <td>NaN</td>\n",
       "      <td>784.000000</td>\n",
       "      <td>NaN</td>\n",
       "      <td>789.000000</td>\n",
       "      <td>NaN</td>\n",
       "      <td>NaN</td>\n",
       "      <td>NaN</td>\n",
       "      <td>1.000000</td>\n",
       "    </tr>\n",
       "    <tr>\n",
       "      <th>25%</th>\n",
       "      <td>NaN</td>\n",
       "      <td>NaN</td>\n",
       "      <td>1.477548e+12</td>\n",
       "      <td>1.477548e+12</td>\n",
       "      <td>37.000000</td>\n",
       "      <td>NaN</td>\n",
       "      <td>NaN</td>\n",
       "      <td>NaN</td>\n",
       "      <td>NaN</td>\n",
       "      <td>1398.000000</td>\n",
       "      <td>NaN</td>\n",
       "      <td>1391.000000</td>\n",
       "      <td>NaN</td>\n",
       "      <td>NaN</td>\n",
       "      <td>NaN</td>\n",
       "      <td>3.000000</td>\n",
       "    </tr>\n",
       "    <tr>\n",
       "      <th>50%</th>\n",
       "      <td>NaN</td>\n",
       "      <td>NaN</td>\n",
       "      <td>1.496010e+12</td>\n",
       "      <td>1.496010e+12</td>\n",
       "      <td>55.000000</td>\n",
       "      <td>NaN</td>\n",
       "      <td>NaN</td>\n",
       "      <td>NaN</td>\n",
       "      <td>NaN</td>\n",
       "      <td>1567.000000</td>\n",
       "      <td>NaN</td>\n",
       "      <td>1562.000000</td>\n",
       "      <td>NaN</td>\n",
       "      <td>NaN</td>\n",
       "      <td>NaN</td>\n",
       "      <td>4.000000</td>\n",
       "    </tr>\n",
       "    <tr>\n",
       "      <th>75%</th>\n",
       "      <td>NaN</td>\n",
       "      <td>NaN</td>\n",
       "      <td>1.503170e+12</td>\n",
       "      <td>1.503170e+12</td>\n",
       "      <td>79.000000</td>\n",
       "      <td>NaN</td>\n",
       "      <td>NaN</td>\n",
       "      <td>NaN</td>\n",
       "      <td>NaN</td>\n",
       "      <td>1793.000000</td>\n",
       "      <td>NaN</td>\n",
       "      <td>1784.000000</td>\n",
       "      <td>NaN</td>\n",
       "      <td>NaN</td>\n",
       "      <td>NaN</td>\n",
       "      <td>6.000000</td>\n",
       "    </tr>\n",
       "    <tr>\n",
       "      <th>max</th>\n",
       "      <td>NaN</td>\n",
       "      <td>NaN</td>\n",
       "      <td>1.504493e+12</td>\n",
       "      <td>1.504494e+12</td>\n",
       "      <td>349.000000</td>\n",
       "      <td>NaN</td>\n",
       "      <td>NaN</td>\n",
       "      <td>NaN</td>\n",
       "      <td>NaN</td>\n",
       "      <td>2700.000000</td>\n",
       "      <td>NaN</td>\n",
       "      <td>2723.000000</td>\n",
       "      <td>NaN</td>\n",
       "      <td>NaN</td>\n",
       "      <td>NaN</td>\n",
       "      <td>28.000000</td>\n",
       "    </tr>\n",
       "  </tbody>\n",
       "</table>\n",
       "</div>"
      ],
      "text/plain": [
       "              id  rated    created_at  last_move_at         turns  \\\n",
       "count      20058  20058  2.005800e+04  2.005800e+04  20058.000000   \n",
       "unique     19113      2           NaN           NaN           NaN   \n",
       "top     XRuQPSzH   True           NaN           NaN           NaN   \n",
       "freq           5  16155           NaN           NaN           NaN   \n",
       "mean         NaN    NaN  1.483617e+12  1.483618e+12     60.465999   \n",
       "std          NaN    NaN  2.850151e+10  2.850140e+10     33.570585   \n",
       "min          NaN    NaN  1.376772e+12  1.376772e+12      1.000000   \n",
       "25%          NaN    NaN  1.477548e+12  1.477548e+12     37.000000   \n",
       "50%          NaN    NaN  1.496010e+12  1.496010e+12     55.000000   \n",
       "75%          NaN    NaN  1.503170e+12  1.503170e+12     79.000000   \n",
       "max          NaN    NaN  1.504493e+12  1.504494e+12    349.000000   \n",
       "\n",
       "       victory_status winner increment_code white_id  white_rating black_id  \\\n",
       "count           20058  20058          20058    20058  20058.000000    20058   \n",
       "unique              4      3            400     9438           NaN     9331   \n",
       "top            resign  white           10+0  taranga           NaN  taranga   \n",
       "freq            11147  10001           7721       72           NaN       82   \n",
       "mean              NaN    NaN            NaN      NaN   1596.631868      NaN   \n",
       "std               NaN    NaN            NaN      NaN    291.253376      NaN   \n",
       "min               NaN    NaN            NaN      NaN    784.000000      NaN   \n",
       "25%               NaN    NaN            NaN      NaN   1398.000000      NaN   \n",
       "50%               NaN    NaN            NaN      NaN   1567.000000      NaN   \n",
       "75%               NaN    NaN            NaN      NaN   1793.000000      NaN   \n",
       "max               NaN    NaN            NaN      NaN   2700.000000      NaN   \n",
       "\n",
       "        black_rating  moves opening_eco          opening_name   opening_ply  \n",
       "count   20058.000000  20058       20058                 20058  20058.000000  \n",
       "unique           NaN  18920         365                  1477           NaN  \n",
       "top              NaN  e4 e5         A00  Van't Kruijs Opening           NaN  \n",
       "freq             NaN     27        1007                   368           NaN  \n",
       "mean     1588.831987    NaN         NaN                   NaN      4.816981  \n",
       "std       291.036126    NaN         NaN                   NaN      2.797152  \n",
       "min       789.000000    NaN         NaN                   NaN      1.000000  \n",
       "25%      1391.000000    NaN         NaN                   NaN      3.000000  \n",
       "50%      1562.000000    NaN         NaN                   NaN      4.000000  \n",
       "75%      1784.000000    NaN         NaN                   NaN      6.000000  \n",
       "max      2723.000000    NaN         NaN                   NaN     28.000000  "
      ]
     },
     "execution_count": 9,
     "metadata": {},
     "output_type": "execute_result"
    }
   ],
   "source": [
    "df.describe(include='all')"
   ]
  },
  {
   "cell_type": "code",
   "execution_count": 11,
   "id": "148d34e8-8992-4a66-9e58-2207546f8766",
   "metadata": {
    "tags": []
   },
   "outputs": [
    {
     "data": {
      "text/plain": [
       "(20058, 16)"
      ]
     },
     "execution_count": 11,
     "metadata": {},
     "output_type": "execute_result"
    }
   ],
   "source": [
    "df.shape"
   ]
  },
  {
   "cell_type": "code",
   "execution_count": 12,
   "id": "c8f06bd8-d282-40f8-9b8c-d11d545b1c7a",
   "metadata": {
    "tags": []
   },
   "outputs": [
    {
     "name": "stdout",
     "output_type": "stream",
     "text": [
      "<class 'pandas.core.frame.DataFrame'>\n",
      "RangeIndex: 20058 entries, 0 to 20057\n",
      "Data columns (total 16 columns):\n",
      " #   Column          Non-Null Count  Dtype  \n",
      "---  ------          --------------  -----  \n",
      " 0   id              20058 non-null  object \n",
      " 1   rated           20058 non-null  bool   \n",
      " 2   created_at      20058 non-null  float64\n",
      " 3   last_move_at    20058 non-null  float64\n",
      " 4   turns           20058 non-null  int64  \n",
      " 5   victory_status  20058 non-null  object \n",
      " 6   winner          20058 non-null  object \n",
      " 7   increment_code  20058 non-null  object \n",
      " 8   white_id        20058 non-null  object \n",
      " 9   white_rating    20058 non-null  int64  \n",
      " 10  black_id        20058 non-null  object \n",
      " 11  black_rating    20058 non-null  int64  \n",
      " 12  moves           20058 non-null  object \n",
      " 13  opening_eco     20058 non-null  object \n",
      " 14  opening_name    20058 non-null  object \n",
      " 15  opening_ply     20058 non-null  int64  \n",
      "dtypes: bool(1), float64(2), int64(4), object(9)\n",
      "memory usage: 2.3+ MB\n"
     ]
    }
   ],
   "source": [
    "df.info()"
   ]
  },
  {
   "cell_type": "markdown",
   "id": "59faca9a-516d-4809-babf-c1a79ef1cc47",
   "metadata": {},
   "source": [
    "With all of this we can see that all variables have 20058 non-null observations. Matches with the shape of the dataset (20058, 16). So we can say that dataset does not have any null value"
   ]
  },
  {
   "cell_type": "markdown",
   "id": "b2643758-7110-4275-9739-68c03098b274",
   "metadata": {},
   "source": [
    "### What is the most winnable color of pieces?"
   ]
  },
  {
   "cell_type": "code",
   "execution_count": 19,
   "id": "f7ff7bcd-9b84-4624-8a92-c58272979ab3",
   "metadata": {
    "tags": []
   },
   "outputs": [
    {
     "data": {
      "text/plain": [
       "white    0.498604\n",
       "black    0.454033\n",
       "draw     0.047363\n",
       "Name: winner, dtype: float64"
      ]
     },
     "execution_count": 19,
     "metadata": {},
     "output_type": "execute_result"
    }
   ],
   "source": [
    "df.winner.value_counts(normalize=True)"
   ]
  },
  {
   "cell_type": "code",
   "execution_count": 61,
   "id": "78fcdd51-1b40-427f-885d-d432c925db3b",
   "metadata": {
    "tags": []
   },
   "outputs": [
    {
     "data": {
      "text/plain": [
       "white    10001\n",
       "black     9107\n",
       "draw       950\n",
       "Name: winner, dtype: int64"
      ]
     },
     "execution_count": 61,
     "metadata": {},
     "output_type": "execute_result"
    }
   ],
   "source": [
    "df.winner.value_counts()"
   ]
  },
  {
   "cell_type": "code",
   "execution_count": 29,
   "id": "6a49b696-e7a4-4425-8ec8-5172a3a22c66",
   "metadata": {
    "tags": []
   },
   "outputs": [
    {
     "data": {
      "image/png": "[encoded data removed]",
      "text/plain": [
       "<Figure size 640x480 with 1 Axes>"
      ]
     },
     "metadata": {},
     "output_type": "display_data"
    }
   ],
   "source": [
    "df.winner.value_counts().plot.pie()\n",
    "plt.show()"
   ]
  },
  {
   "cell_type": "markdown",
   "id": "4bd13895-b660-4fcc-a7c7-75437d64b4d5",
   "metadata": {},
   "source": [
    "There is not a huge difference, but white color pieces (49.86%) win more than black color pieces (45.40%) for %4.46. Draws correspond to 4.73%"
   ]
  },
  {
   "cell_type": "markdown",
   "id": "a4995ee3-b4dd-4a45-a8e5-60c9eba020b0",
   "metadata": {},
   "source": [
    "## What is the most common way to win?"
   ]
  },
  {
   "cell_type": "code",
   "execution_count": 23,
   "id": "bf59dc47-88f7-43b9-a738-ed9c4e679e84",
   "metadata": {
    "tags": []
   },
   "outputs": [
    {
     "data": {
      "text/plain": [
       "array(['outoftime', 'resign', 'mate', 'draw'], dtype=object)"
      ]
     },
     "execution_count": 23,
     "metadata": {},
     "output_type": "execute_result"
    }
   ],
   "source": [
    "df.victory_status.unique()"
   ]
  },
  {
   "cell_type": "code",
   "execution_count": 31,
   "id": "f0a8c216-0b58-47e3-9c59-1407bf85615b",
   "metadata": {
    "tags": []
   },
   "outputs": [
    {
     "data": {
      "text/plain": [
       "resign       0.555738\n",
       "mate         0.315336\n",
       "outoftime    0.083757\n",
       "draw         0.045169\n",
       "Name: victory_status, dtype: float64"
      ]
     },
     "execution_count": 31,
     "metadata": {},
     "output_type": "execute_result"
    }
   ],
   "source": [
    "df.victory_status.value_counts(normalize=True)"
   ]
  },
  {
   "cell_type": "code",
   "execution_count": 30,
   "id": "abe15c75-6efb-4a18-b98d-22459967311e",
   "metadata": {
    "tags": []
   },
   "outputs": [
    {
     "data": {
      "image/png": "[encoded data removed]",
      "text/plain": [
       "<Figure size 640x480 with 1 Axes>"
      ]
     },
     "metadata": {},
     "output_type": "display_data"
    }
   ],
   "source": [
    "sns.countplot(x='victory_status', data=df)\n",
    "plt.show()\n",
    "plt.close()"
   ]
  },
  {
   "cell_type": "markdown",
   "id": "af6b20d9-1cb0-4038-bf54-8a6a707bb316",
   "metadata": {},
   "source": [
    "In this plot we can see that the most common way to win is **resign** (55.57%), followed by **mate** (31.53%). Then **outoftime** (8.37%), and lastly **draw** (4.51%). This, in numbers is:"
   ]
  },
  {
   "cell_type": "code",
   "execution_count": 33,
   "id": "539fcac4-0bb1-4edf-b130-290fdb118f26",
   "metadata": {
    "tags": []
   },
   "outputs": [
    {
     "data": {
      "text/plain": [
       "resign       11147\n",
       "mate          6325\n",
       "outoftime     1680\n",
       "draw           906\n",
       "Name: victory_status, dtype: int64"
      ]
     },
     "execution_count": 33,
     "metadata": {},
     "output_type": "execute_result"
    }
   ],
   "source": [
    "df.victory_status.value_counts()"
   ]
  },
  {
   "cell_type": "markdown",
   "id": "63200fbb-c638-4404-a4a8-c0c33619a858",
   "metadata": {},
   "source": [
    "## What is the most common win oppening strategy for white and black pieces?"
   ]
  },
  {
   "cell_type": "code",
   "execution_count": 261,
   "id": "d78ea2a9-26f3-4919-9f71-bfdb4360d24d",
   "metadata": {
    "tags": []
   },
   "outputs": [],
   "source": [
    "dfwhite = df[df.winner == 'white']\n",
    "dfblack = df[df.winner == 'black']"
   ]
  },
  {
   "cell_type": "markdown",
   "id": "9fefa337-0efe-4cf9-bf3f-d1484de43c42",
   "metadata": {},
   "source": [
    "### White"
   ]
  },
  {
   "cell_type": "code",
   "execution_count": 195,
   "id": "4591eb5e-d397-4675-a1d0-d76dd880e8df",
   "metadata": {
    "tags": []
   },
   "outputs": [
    {
     "data": {
      "text/plain": [
       "10001"
      ]
     },
     "execution_count": 195,
     "metadata": {},
     "output_type": "execute_result"
    }
   ],
   "source": [
    "len(dfwhite.opening_name)"
   ]
  },
  {
   "cell_type": "code",
   "execution_count": 158,
   "id": "6fb9f992-4d2a-40ad-99b7-3cba80cb2795",
   "metadata": {
    "tags": []
   },
   "outputs": [
    {
     "data": {
      "text/plain": [
       "Scandinavian Defense: Mieses-Kotroc Variation    164\n",
       "Sicilian Defense                                 149\n",
       "Scotch Game                                      145\n",
       "French Defense: Knight Variation                 135\n",
       "Philidor Defense #3                              127\n",
       "Van't Kruijs Opening                             126\n",
       "Sicilian Defense: Bowdler Attack                 119\n",
       "Queen's Pawn Game: Mason Attack                  116\n",
       "Queen's Pawn Game: Chigorin Variation            112\n",
       "Horwitz Defense                                  110\n",
       "Name: opening_name, dtype: int64"
      ]
     },
     "execution_count": 158,
     "metadata": {},
     "output_type": "execute_result"
    }
   ],
   "source": [
    "dfwhite.opening_name.value_counts().head(10)"
   ]
  },
  {
   "cell_type": "code",
   "execution_count": 166,
   "id": "4f34a294-f220-44b3-a0b1-b0f6c4137c23",
   "metadata": {
    "tags": []
   },
   "outputs": [],
   "source": [
    "dfgraphwhite = dfwhite[dfwhite.opening_name.isin(['Scandinavian Defense: Mieses-Kotroc Variation',\\\n",
    "                                                  'Sicilian Defense', \\\n",
    "                                                 'Scotch Game', \\\n",
    "                                                 'French Defense: Knight Variation', \\\n",
    "                                                 'Philidor Defense #3', \\\n",
    "                                                 \"Van't Kruijs Opening\", \\\n",
    "                                                 'Sicilian Defense: Bowdler Attack', \\\n",
    "                                                 \"Queen's Pawn Game: Mason Attack\", \\\n",
    "                                                 \"Queen's Pawn Game: Chigorin Variation\", \\\n",
    "                                                 'Horwitz Defense'])]"
   ]
  },
  {
   "cell_type": "code",
   "execution_count": 172,
   "id": "7ccfa872-d077-4f63-9e3a-5ef398f84f0b",
   "metadata": {
    "tags": []
   },
   "outputs": [
    {
     "data": {
      "text/plain": [
       "array(['Scandinavian Defense: Mieses-Kotroc Variation',\n",
       "       \"Van't Kruijs Opening\", 'Horwitz Defense',\n",
       "       'Sicilian Defense: Bowdler Attack',\n",
       "       \"Queen's Pawn Game: Chigorin Variation\", 'Sicilian Defense',\n",
       "       \"Queen's Pawn Game: Mason Attack\", 'Scotch Game',\n",
       "       'French Defense: Knight Variation', 'Philidor Defense #3'],\n",
       "      dtype=object)"
      ]
     },
     "execution_count": 172,
     "metadata": {},
     "output_type": "execute_result"
    }
   ],
   "source": [
    "dfgraphwhite.opening_name.unique()"
   ]
  },
  {
   "cell_type": "code",
   "execution_count": 192,
   "id": "e263c714-bd0c-4dce-88e5-133000d44275",
   "metadata": {
    "tags": []
   },
   "outputs": [
    {
     "data": {
      "image/png": "[encoded data removed]",
      "text/plain": [
       "<Figure size 640x480 with 1 Axes>"
      ]
     },
     "metadata": {},
     "output_type": "display_data"
    }
   ],
   "source": [
    "sns.countplot(y='opening_name', \\\n",
    "              data = dfgraphwhite, \\\n",
    "              orient='h', \\\n",
    "              order=dfgraphwhite['opening_name'].value_counts().index)\n",
    "plt.ylabel('Opening name')\n",
    "plt.xlabel('Count')\n",
    "plt.show()"
   ]
  },
  {
   "cell_type": "code",
   "execution_count": 193,
   "id": "a789cc4e-6310-4021-93b1-4a771aad6eba",
   "metadata": {
    "tags": []
   },
   "outputs": [
    {
     "data": {
      "text/plain": [
       "Scandinavian Defense: Mieses-Kotroc Variation                        0.016398\n",
       "Sicilian Defense                                                     0.014899\n",
       "Scotch Game                                                          0.014499\n",
       "French Defense: Knight Variation                                     0.013499\n",
       "Philidor Defense #3                                                  0.012699\n",
       "                                                                       ...   \n",
       "King's Gambit Accepted |  Bishop's Gambit |  Bogoljubov Variation    0.000100\n",
       "Ruy Lopez: Noah's Ark Trap                                           0.000100\n",
       "Ruy Lopez: Closed Variations |  Martinez Variation                   0.000100\n",
       "Italian Game: Scotch Gambit |  de Riviere Defense                    0.000100\n",
       "Lion Defense: Anti-Philidor |  Lion's Cave                           0.000100\n",
       "Name: opening_name, Length: 1181, dtype: float64"
      ]
     },
     "execution_count": 193,
     "metadata": {},
     "output_type": "execute_result"
    }
   ],
   "source": [
    "dfwhite.opening_name.value_counts(normalize=True)"
   ]
  },
  {
   "cell_type": "markdown",
   "id": "3be62cae-cede-428b-9253-40ca3b5dc7ee",
   "metadata": {},
   "source": [
    "For the graph, we used an auxiliar dataframe. For that auxiliar dataframe (dfgraphwhite) we just added the top 10 most common **Opening Names**. For percentage, we used a table that hold all opening names. As we can see, **Scandinavian Defense: Mieses-Kotroc Variation** is the most common way to open a winning match with white pieces (1.63% out of 10001 games)"
   ]
  },
  {
   "cell_type": "markdown",
   "id": "73227b8e-e245-48fc-bf11-9c50ba0ed23d",
   "metadata": {},
   "source": [
    "### Black"
   ]
  },
  {
   "cell_type": "code",
   "execution_count": 196,
   "id": "a7b26e75-0743-4004-9ad3-cc0942f9ceb2",
   "metadata": {
    "tags": []
   },
   "outputs": [
    {
     "data": {
      "text/plain": [
       "9107"
      ]
     },
     "execution_count": 196,
     "metadata": {},
     "output_type": "execute_result"
    }
   ],
   "source": [
    "len(dfblack.opening_name)"
   ]
  },
  {
   "cell_type": "code",
   "execution_count": 197,
   "id": "3997f074-5198-4650-8459-149c9294a9a9",
   "metadata": {
    "tags": []
   },
   "outputs": [
    {
     "data": {
      "text/plain": [
       "Van't Kruijs Opening                     226\n",
       "Sicilian Defense                         194\n",
       "Sicilian Defense: Bowdler Attack         164\n",
       "Scandinavian Defense                     123\n",
       "French Defense: Knight Variation         121\n",
       "Scotch Game                              115\n",
       "Queen's Pawn Game: Chigorin Variation    109\n",
       "Queen's Pawn Game: Mason Attack          103\n",
       "Indian Game                              100\n",
       "Philidor Defense #2                       96\n",
       "Name: opening_name, dtype: int64"
      ]
     },
     "execution_count": 197,
     "metadata": {},
     "output_type": "execute_result"
    }
   ],
   "source": [
    "dfblack.opening_name.value_counts().head(10)"
   ]
  },
  {
   "cell_type": "code",
   "execution_count": 199,
   "id": "4f13698a-15a8-4e16-a393-06cbb47898a6",
   "metadata": {
    "tags": []
   },
   "outputs": [],
   "source": [
    "dfgraphblack = dfblack[dfblack.isin([\"Van't Kruijs Opening\", \\\n",
    "                                    'Sicilian Defense', \\\n",
    "                                    'Sicilian Defense: Bowdler Attack', \\\n",
    "                                    'Scandinavian Defense', \\\n",
    "                                    'French Defense: Knight Variation', \\\n",
    "                                    'Scotch Game', \\\n",
    "                                    \"Queen's Pawn Game: Chigorin Variation\", \\\n",
    "                                    \"Queen's Pawn Game: Mason Attack\", \\\n",
    "                                    'Indian Game', \\\n",
    "                                    'Philidor Defense #2'])]"
   ]
  },
  {
   "cell_type": "code",
   "execution_count": 200,
   "id": "437e9a2a-a5b8-4ff2-9a19-2ed4596b502d",
   "metadata": {
    "tags": []
   },
   "outputs": [
    {
     "data": {
      "text/plain": [
       "array([nan, 'French Defense: Knight Variation',\n",
       "       \"Queen's Pawn Game: Chigorin Variation\", 'Indian Game',\n",
       "       'Scandinavian Defense', 'Scotch Game',\n",
       "       \"Queen's Pawn Game: Mason Attack\", 'Sicilian Defense',\n",
       "       'Philidor Defense #2', \"Van't Kruijs Opening\",\n",
       "       'Sicilian Defense: Bowdler Attack'], dtype=object)"
      ]
     },
     "execution_count": 200,
     "metadata": {},
     "output_type": "execute_result"
    }
   ],
   "source": [
    "dfgraphblack.opening_name.unique()"
   ]
  },
  {
   "cell_type": "code",
   "execution_count": 201,
   "id": "42f5fb80-8936-47a5-a3aa-f0677c08e3fd",
   "metadata": {
    "tags": []
   },
   "outputs": [
    {
     "data": {
      "image/png": "[encoded data removed]",
      "text/plain": [
       "<Figure size 640x480 with 1 Axes>"
      ]
     },
     "metadata": {},
     "output_type": "display_data"
    }
   ],
   "source": [
    "sns.countplot(y='opening_name', \\\n",
    "              data = dfgraphblack, \\\n",
    "              orient='h', \\\n",
    "              order=dfgraphblack['opening_name'].value_counts().index)\n",
    "plt.ylabel('Opening name')\n",
    "plt.xlabel('Count')\n",
    "plt.show()"
   ]
  },
  {
   "cell_type": "code",
   "execution_count": 202,
   "id": "ae0d37dd-d108-4313-8163-d7d98c841dba",
   "metadata": {
    "tags": []
   },
   "outputs": [
    {
     "data": {
      "text/plain": [
       "Van't Kruijs Opening                                               0.024816\n",
       "Sicilian Defense                                                   0.021302\n",
       "Sicilian Defense: Bowdler Attack                                   0.018008\n",
       "Scandinavian Defense                                               0.013506\n",
       "French Defense: Knight Variation                                   0.013286\n",
       "                                                                     ...   \n",
       "Ruy Lopez: Closed Variations |  Yates Variation |  Short Attack    0.000110\n",
       "Queen's Gambit Accepted: Showalter Variation                       0.000110\n",
       "King's Gambit Accepted |  Greco Gambit                             0.000110\n",
       "Van Geet Opening: Dunst-Perrenet Gambit                            0.000110\n",
       "Pirc Defense: Austrian Attack |  Dragon Formation                  0.000110\n",
       "Name: opening_name, Length: 1145, dtype: float64"
      ]
     },
     "execution_count": 202,
     "metadata": {},
     "output_type": "execute_result"
    }
   ],
   "source": [
    "dfblack.opening_name.value_counts(normalize=True)"
   ]
  },
  {
   "cell_type": "markdown",
   "id": "033c98d4-f25e-42a6-8786-a12bc3e378a3",
   "metadata": {},
   "source": [
    "For black pieces we can see that the most common win strategy is **Van't Kruijs Opening**, having %2.48 of the total black piece wins (9107)"
   ]
  },
  {
   "cell_type": "markdown",
   "id": "c0a9e1f6-52ba-4682-afb3-a91934cd0b95",
   "metadata": {},
   "source": [
    "## Are most of the games rated?"
   ]
  },
  {
   "cell_type": "code",
   "execution_count": 209,
   "id": "07a925b1-e695-4d68-8eac-967ce1afd2d9",
   "metadata": {
    "tags": []
   },
   "outputs": [
    {
     "data": {
      "image/png": "[encoded data removed]",
      "text/plain": [
       "<Figure size 640x480 with 1 Axes>"
      ]
     },
     "metadata": {},
     "output_type": "display_data"
    }
   ],
   "source": [
    "df.rated.value_counts().plot.pie()\n",
    "plt.show()\n",
    "plt.close()"
   ]
  },
  {
   "cell_type": "markdown",
   "id": "80290064-537c-4d5b-a858-a23ec883fcab",
   "metadata": {},
   "source": [
    "We can affirm that most of the games are rated"
   ]
  },
  {
   "cell_type": "markdown",
   "id": "9460194c-7598-46be-be02-4262c3a1158b",
   "metadata": {},
   "source": [
    "## What is the mean of turns that take to a white or black piece to win a game?"
   ]
  },
  {
   "cell_type": "markdown",
   "id": "97b2d457-abb5-42f3-b090-c85322dd7772",
   "metadata": {},
   "source": [
    "### White"
   ]
  },
  {
   "cell_type": "code",
   "execution_count": 220,
   "id": "a982dd03-3886-4b0b-af01-b2d5ae6e8406",
   "metadata": {
    "tags": []
   },
   "outputs": [
    {
     "data": {
      "image/png": "[encoded data removed]",
      "text/plain": [
       "<Figure size 640x480 with 1 Axes>"
      ]
     },
     "metadata": {},
     "output_type": "display_data"
    }
   ],
   "source": [
    "sns.boxplot(data = dfwhite, x='winner', y='turns')\n",
    "plt.xlabel('Winner')\n",
    "plt.ylabel('Turns')\n",
    "plt.show()\n",
    "plt.close()"
   ]
  },
  {
   "cell_type": "code",
   "execution_count": 226,
   "id": "a1908278-a4ab-45a7-82e2-f8f4e958ddc6",
   "metadata": {
    "tags": []
   },
   "outputs": [
    {
     "data": {
      "text/plain": [
       "58"
      ]
     },
     "execution_count": 226,
     "metadata": {},
     "output_type": "execute_result"
    }
   ],
   "source": [
    "round(dfwhite.turns.mean())"
   ]
  },
  {
   "cell_type": "markdown",
   "id": "87682ea8-409c-4dcc-beef-0a180e24d113",
   "metadata": {},
   "source": [
    "We can see that the mean turns to win a game as a white piece is 58"
   ]
  },
  {
   "cell_type": "markdown",
   "id": "93b2e397-dfcd-4041-bbb0-4507f2901675",
   "metadata": {},
   "source": [
    "We can also see that there are a lot of values that go out of the chart. So, for better visualization, we are going to use the interquantile range"
   ]
  },
  {
   "cell_type": "code",
   "execution_count": 217,
   "id": "f97136ff-59c3-435e-a8c5-c4e6e31098f2",
   "metadata": {
    "tags": []
   },
   "outputs": [],
   "source": [
    "Q1 = dfwhite['turns'].quantile(0.25)\n",
    "Q3 = dfwhite['turns'].quantile(0.75)\n",
    "IQR = Q3 - Q1"
   ]
  },
  {
   "cell_type": "code",
   "execution_count": 222,
   "id": "987cab0a-b55d-4d48-a39e-7437a51bf7e7",
   "metadata": {
    "tags": []
   },
   "outputs": [],
   "source": [
    "dfwhiteinterquantile = dfwhite[dfwhite['turns'].between(Q1 - 1.5 * IQR, Q3 + 1.5 * IQR)]"
   ]
  },
  {
   "cell_type": "code",
   "execution_count": 223,
   "id": "30d85a04-42f2-41d3-bf98-ba7c0f9e828f",
   "metadata": {
    "tags": []
   },
   "outputs": [
    {
     "data": {
      "image/png": "[encoded data removed]",
      "text/plain": [
       "<Figure size 640x480 with 1 Axes>"
      ]
     },
     "metadata": {},
     "output_type": "display_data"
    }
   ],
   "source": [
    "sns.boxplot(data = dfwhiteinterquantile, x='winner', y='turns')\n",
    "plt.xlabel('Winner')\n",
    "plt.ylabel('Turns')\n",
    "plt.show()\n",
    "plt.close()"
   ]
  },
  {
   "cell_type": "markdown",
   "id": "eda4a434-40f5-4dc7-a21b-ce85d838a226",
   "metadata": {},
   "source": [
    "### Black"
   ]
  },
  {
   "cell_type": "code",
   "execution_count": 227,
   "id": "0fdc7f8c-f58f-4c71-a2c4-2628c0fe454f",
   "metadata": {
    "tags": []
   },
   "outputs": [
    {
     "data": {
      "image/png": "[encoded data removed]",
      "text/plain": [
       "<Figure size 640x480 with 1 Axes>"
      ]
     },
     "metadata": {},
     "output_type": "display_data"
    }
   ],
   "source": [
    "sns.boxplot(data = dfblack, x='winner', y='turns')\n",
    "plt.xlabel('Winner')\n",
    "plt.ylabel('Turns')\n",
    "plt.show()\n",
    "plt.close()"
   ]
  },
  {
   "cell_type": "code",
   "execution_count": 228,
   "id": "19227841-c6ad-44c4-ac4c-e6cb7b3dd52f",
   "metadata": {
    "tags": []
   },
   "outputs": [
    {
     "data": {
      "text/plain": [
       "61"
      ]
     },
     "execution_count": 228,
     "metadata": {},
     "output_type": "execute_result"
    }
   ],
   "source": [
    "round(dfblack.turns.mean())"
   ]
  },
  {
   "cell_type": "markdown",
   "id": "92203285-4490-42cd-9519-7176c1752ad3",
   "metadata": {},
   "source": [
    "As we can see, black pieces, as a mean, take 61 turns to win a game. Now, to better visualize this one as well, we are going to use the interquantile range."
   ]
  },
  {
   "cell_type": "code",
   "execution_count": 229,
   "id": "f6467808-e106-4088-bbbc-80e101dc989a",
   "metadata": {
    "tags": []
   },
   "outputs": [],
   "source": [
    "Q1_1 = dfblack['turns'].quantile(0.25)\n",
    "Q3_1 = dfblack['turns'].quantile(0.75)\n",
    "IQR = Q3_1 - Q1_1"
   ]
  },
  {
   "cell_type": "code",
   "execution_count": 230,
   "id": "fc2c60d8-a139-4eb6-ba2f-612a0d9c2112",
   "metadata": {
    "tags": []
   },
   "outputs": [],
   "source": [
    "dfblackinterquantile = dfblack[dfblack['turns'].between(Q1_1 - 1.5 * IQR, Q3_1 + 1.5 * IQR)]"
   ]
  },
  {
   "cell_type": "code",
   "execution_count": 231,
   "id": "8854b42a-5a0f-4a9c-b618-5aba7caa3799",
   "metadata": {
    "tags": []
   },
   "outputs": [
    {
     "data": {
      "image/png": "[encoded data removed]",
      "text/plain": [
       "<Figure size 640x480 with 1 Axes>"
      ]
     },
     "metadata": {},
     "output_type": "display_data"
    }
   ],
   "source": [
    "sns.boxplot(data = dfblackinterquantile, x='winner', y='turns')\n",
    "plt.xlabel('Winner')\n",
    "plt.ylabel('Turns')\n",
    "plt.show()\n",
    "plt.close()"
   ]
  },
  {
   "cell_type": "markdown",
   "id": "e2d420b2-9f5e-438d-84c4-c73c1aeb2d2a",
   "metadata": {
    "tags": []
   },
   "source": [
    "## Rating difference related to wins"
   ]
  },
  {
   "cell_type": "code",
   "execution_count": 242,
   "id": "d9dd46df-24b6-493f-b71b-289b485071fc",
   "metadata": {
    "tags": []
   },
   "outputs": [],
   "source": [
    "dfwhiterating = dfwhite\n",
    "dfblackrating = dfblack"
   ]
  },
  {
   "cell_type": "code",
   "execution_count": 250,
   "id": "940a7215-0140-48e8-a1a1-22d6f3737e6a",
   "metadata": {
    "tags": []
   },
   "outputs": [
    {
     "data": {
      "text/plain": [
       "-88.98111342923026"
      ]
     },
     "execution_count": 250,
     "metadata": {},
     "output_type": "execute_result"
    }
   ],
   "source": [
    "dfblackrating.rating_change.mean()"
   ]
  },
  {
   "cell_type": "code",
   "execution_count": 251,
   "id": "fa832d7b-0e1b-4dff-8af0-2233c39a9a9d",
   "metadata": {
    "tags": []
   },
   "outputs": [
    {
     "data": {
      "text/plain": [
       "95.30746925307469"
      ]
     },
     "execution_count": 251,
     "metadata": {},
     "output_type": "execute_result"
    }
   ],
   "source": [
    "dfwhiterating.rating_change.mean()"
   ]
  },
  {
   "cell_type": "markdown",
   "id": "9bc7e1ee-af85-43ee-a9aa-333832632772",
   "metadata": {},
   "source": [
    "With this we can see that, when white pieces win, the rating of the players, as a mean, is 95.30 positive to white. In the other hand, when black pieces win, the rating is 88.98 positive to black rating pieces"
   ]
  },
  {
   "cell_type": "markdown",
   "id": "c7eb20f9-ed7f-4c29-b649-9c3b765aa77d",
   "metadata": {},
   "source": [
    "## Which is the most winning black id and white id"
   ]
  },
  {
   "cell_type": "markdown",
   "id": "4a618160-a19c-45aa-a736-89354aa30a7a",
   "metadata": {},
   "source": [
    "### White"
   ]
  },
  {
   "cell_type": "code",
   "execution_count": 264,
   "id": "e7bcfa1e-16f3-48ab-ad95-c80027447714",
   "metadata": {
    "tags": []
   },
   "outputs": [
    {
     "data": {
      "text/plain": [
       "taranga               34\n",
       "ssf7                  29\n",
       "hassan1365416         28\n",
       "a_p_t_e_m_u_u         25\n",
       "vladimir-kramnik-1    22\n",
       "1240100948            22\n",
       "lance5500             21\n",
       "traced                21\n",
       "ozil17                21\n",
       "ozguragarr            21\n",
       "Name: white_id, dtype: int64"
      ]
     },
     "execution_count": 264,
     "metadata": {},
     "output_type": "execute_result"
    }
   ],
   "source": [
    "dfwhite.white_id.value_counts().head(10)"
   ]
  },
  {
   "cell_type": "code",
   "execution_count": 269,
   "id": "3ca39317-07ac-4152-89bb-c2836aa44a48",
   "metadata": {
    "tags": []
   },
   "outputs": [],
   "source": [
    "dfwinningwhiteid = dfwhite[dfwhite.white_id.isin(['taranga', \\\n",
    "                         'ssf7', \\\n",
    "                         'hassan1365416', \\\n",
    "                         'a_p_t_e_m_u_u', \\\n",
    "                         'vladimir-kramnik-1', \\\n",
    "                         '1240100948', \\\n",
    "                         'lance5500', \\\n",
    "                         'traced', \\\n",
    "                         'ozil17', \\\n",
    "                         'ozguragarr'])]"
   ]
  },
  {
   "cell_type": "code",
   "execution_count": 271,
   "id": "1a8a3ea0-a1c8-4d1c-87a0-7d00c93797ac",
   "metadata": {
    "tags": []
   },
   "outputs": [
    {
     "data": {
      "text/plain": [
       "array(['taranga', 'lance5500', 'a_p_t_e_m_u_u', 'traced', 'hassan1365416',\n",
       "       'ozguragarr', '1240100948', 'vladimir-kramnik-1', 'ozil17', 'ssf7'],\n",
       "      dtype=object)"
      ]
     },
     "execution_count": 271,
     "metadata": {},
     "output_type": "execute_result"
    }
   ],
   "source": [
    "dfwinningwhiteid.white_id.unique()"
   ]
  },
  {
   "cell_type": "code",
   "execution_count": 272,
   "id": "e6bcba98-c4ec-45c3-87a0-c4112e868c37",
   "metadata": {
    "tags": []
   },
   "outputs": [
    {
     "data": {
      "image/png": "[encoded data removed]",
      "text/plain": [
       "<Figure size 640x480 with 1 Axes>"
      ]
     },
     "metadata": {},
     "output_type": "display_data"
    }
   ],
   "source": [
    "sns.countplot(y='white_id', \\\n",
    "              data = dfwinningwhiteid, \\\n",
    "              orient='h', \\\n",
    "              order=dfwinningwhiteid['white_id'].value_counts().index)\n",
    "plt.ylabel('White Piece ID')\n",
    "plt.xlabel('Count')\n",
    "plt.show()"
   ]
  },
  {
   "cell_type": "code",
   "execution_count": 273,
   "id": "bf01dfb6-d768-4636-b96e-dd90aedde1be",
   "metadata": {
    "tags": []
   },
   "outputs": [
    {
     "data": {
      "text/plain": [
       "taranga               0.0034\n",
       "ssf7                  0.0029\n",
       "hassan1365416         0.0028\n",
       "a_p_t_e_m_u_u         0.0025\n",
       "vladimir-kramnik-1    0.0022\n",
       "1240100948            0.0022\n",
       "lance5500             0.0021\n",
       "traced                0.0021\n",
       "ozil17                0.0021\n",
       "ozguragarr            0.0021\n",
       "Name: white_id, dtype: float64"
      ]
     },
     "execution_count": 273,
     "metadata": {},
     "output_type": "execute_result"
    }
   ],
   "source": [
    "dfwhite.white_id.value_counts(normalize=True).head(10)"
   ]
  },
  {
   "cell_type": "markdown",
   "id": "0ace511d-0667-4d0e-a7b3-31eda2644c8a",
   "metadata": {},
   "source": [
    "For white pieces, we have that the most winning id is **taranga**. This id won 34 games, representing 0.34% of the total of games"
   ]
  },
  {
   "cell_type": "markdown",
   "id": "67014156-dcb1-4622-b68b-846a9054d89c",
   "metadata": {},
   "source": [
    "### Black"
   ]
  },
  {
   "cell_type": "code",
   "execution_count": 274,
   "id": "2963416a-e415-4a80-816a-32cdf16f9f80",
   "metadata": {
    "tags": []
   },
   "outputs": [
    {
     "data": {
      "text/plain": [
       "taranga               38\n",
       "ducksandcats          29\n",
       "vladimir-kramnik-1    28\n",
       "chesscarl             27\n",
       "docboss               25\n",
       "king5891              22\n",
       "smilsydov             21\n",
       "a_p_t_e_m_u_u         21\n",
       "doraemon61            20\n",
       "saviter               18\n",
       "Name: black_id, dtype: int64"
      ]
     },
     "execution_count": 274,
     "metadata": {},
     "output_type": "execute_result"
    }
   ],
   "source": [
    "dfblack.black_id.value_counts().head(10)"
   ]
  },
  {
   "cell_type": "code",
   "execution_count": 279,
   "id": "89f7ff0f-1490-4419-a73f-41c55be4b114",
   "metadata": {
    "tags": []
   },
   "outputs": [],
   "source": [
    "dfwinningblackid = dfblack[dfblack.black_id.isin(['taranga', \\\n",
    "                         'ducksandcats', \\\n",
    "                         'vladimir-kramnik-1', \\\n",
    "                         'chesscarl', \\\n",
    "                         'docboss', \\\n",
    "                         'king5891', \\\n",
    "                         'smilsydov', \\\n",
    "                         'a_p_t_e_m_u_u', \\\n",
    "                         'doraemon61', \\\n",
    "                         'saviter'])]"
   ]
  },
  {
   "cell_type": "code",
   "execution_count": 280,
   "id": "78bf7225-fa51-40a4-b107-0e97056ad08e",
   "metadata": {
    "tags": []
   },
   "outputs": [
    {
     "data": {
      "text/plain": [
       "array(['taranga', 'chesscarl', 'saviter', 'ducksandcats', 'a_p_t_e_m_u_u',\n",
       "       'doraemon61', 'king5891', 'vladimir-kramnik-1', 'docboss',\n",
       "       'smilsydov'], dtype=object)"
      ]
     },
     "execution_count": 280,
     "metadata": {},
     "output_type": "execute_result"
    }
   ],
   "source": [
    "dfwinningblackid.black_id.unique()"
   ]
  },
  {
   "cell_type": "code",
   "execution_count": 281,
   "id": "27dfe3f4-2864-4109-b676-020166d7032c",
   "metadata": {
    "tags": []
   },
   "outputs": [
    {
     "data": {
      "image/png": "[encoded data removed]",
      "text/plain": [
       "<Figure size 640x480 with 1 Axes>"
      ]
     },
     "metadata": {},
     "output_type": "display_data"
    }
   ],
   "source": [
    "sns.countplot(y='black_id', \\\n",
    "              data = dfwinningblackid, \\\n",
    "              orient='h', \\\n",
    "              order=dfwinningblackid['black_id'].value_counts().index)\n",
    "plt.ylabel('Black Piece ID')\n",
    "plt.xlabel('Count')\n",
    "plt.show()"
   ]
  },
  {
   "cell_type": "code",
   "execution_count": 282,
   "id": "247f1e21-6ae6-4b53-93e2-770347962569",
   "metadata": {
    "tags": []
   },
   "outputs": [
    {
     "data": {
      "text/plain": [
       "taranga               0.004173\n",
       "ducksandcats          0.003184\n",
       "vladimir-kramnik-1    0.003075\n",
       "chesscarl             0.002965\n",
       "docboss               0.002745\n",
       "king5891              0.002416\n",
       "smilsydov             0.002306\n",
       "a_p_t_e_m_u_u         0.002306\n",
       "doraemon61            0.002196\n",
       "saviter               0.001977\n",
       "Name: black_id, dtype: float64"
      ]
     },
     "execution_count": 282,
     "metadata": {},
     "output_type": "execute_result"
    }
   ],
   "source": [
    "dfblack.black_id.value_counts(normalize=True).head(10)"
   ]
  },
  {
   "cell_type": "markdown",
   "id": "ee81b0db-b21e-4dc2-946a-c853627adb38",
   "metadata": {},
   "source": [
    "For black pieces, we can see that **taranga** is also the more winning player, with 38 games. This represent 0.41% of the total games"
   ]
  },
  {
   "cell_type": "markdown",
   "id": "91ca89e4-4895-451d-bce4-ec5b45b3db39",
   "metadata": {},
   "source": [
    "## Is there a relation between rating difference and the number of turns to win a game?"
   ]
  },
  {
   "cell_type": "code",
   "execution_count": 308,
   "id": "b0e7b848-ea87-4678-bbc9-87d8fe081aab",
   "metadata": {
    "tags": []
   },
   "outputs": [
    {
     "data": {
      "text/plain": [
       "Text(0.5, 1.0, 'Relation between Rating Change and Turns')"
      ]
     },
     "execution_count": 308,
     "metadata": {},
     "output_type": "execute_result"
    },
    {
     "data": {
      "image/png": "[encoded data removed]",
      "text/plain": [
       "<Figure size 640x480 with 2 Axes>"
      ]
     },
     "metadata": {},
     "output_type": "display_data"
    }
   ],
   "source": [
    "sns.histplot(data=df, x='rating_change', y='turns', bins=20, cbar=True)\n",
    "plt.xlabel('Rating Change')\n",
    "plt.ylabel('Turns')\n",
    "plt.title('Relation between Rating Change and Turns')"
   ]
  },
  {
   "cell_type": "markdown",
   "id": "823fc943-c722-4bd8-8152-a9a19a83d58f",
   "metadata": {},
   "source": [
    "We can see in the graph that most of the games have two things in common:\n",
    "```\n",
    "Rating change is small\n",
    "Turns are lower than 50\n",
    "```\n",
    "We can also say:\n",
    "```\n",
    "High rating difference games are very short\n",
    "High turns games have small rating difference\n",
    "```"
   ]
  },
  {
   "cell_type": "markdown",
   "id": "1644c389-f5ed-43cb-b9ce-32b95cddc4a4",
   "metadata": {},
   "source": [
    "## What is the most winning Opening Eco"
   ]
  },
  {
   "cell_type": "code",
   "execution_count": 312,
   "id": "2394eb2c-a5bd-4849-96d1-fd9b0c980fcc",
   "metadata": {
    "tags": []
   },
   "outputs": [
    {
     "data": {
      "text/plain": [
       "A00    1007\n",
       "C00     844\n",
       "D00     739\n",
       "B01     716\n",
       "C41     691\n",
       "C20     675\n",
       "A40     618\n",
       "B00     611\n",
       "B20     567\n",
       "C50     538\n",
       "Name: opening_eco, dtype: int64"
      ]
     },
     "execution_count": 312,
     "metadata": {},
     "output_type": "execute_result"
    }
   ],
   "source": [
    "df.opening_eco.value_counts().head(10)"
   ]
  },
  {
   "cell_type": "code",
   "execution_count": 314,
   "id": "16c9e1e4-148b-4361-90ff-f0a09ab13081",
   "metadata": {
    "tags": []
   },
   "outputs": [],
   "source": [
    "dfopeningeco = df[df.opening_eco.isin(['A00', 'C00', 'D00', 'B01', 'C41', 'C20', 'A40', 'B00', 'B20', 'C50'])]"
   ]
  },
  {
   "cell_type": "code",
   "execution_count": 316,
   "id": "7557bdbd-e898-4b9b-8a50-b00663b43c0c",
   "metadata": {
    "tags": []
   },
   "outputs": [
    {
     "data": {
      "text/plain": [
       "array(['B00', 'C20', 'C41', 'D00', 'C50', 'B01', 'A00', 'C00', 'A40',\n",
       "       'B20'], dtype=object)"
      ]
     },
     "execution_count": 316,
     "metadata": {},
     "output_type": "execute_result"
    }
   ],
   "source": [
    "dfopeningeco.opening_eco.unique()"
   ]
  },
  {
   "cell_type": "code",
   "execution_count": 317,
   "id": "000db7db-6151-4faf-93db-183ab53d706e",
   "metadata": {
    "tags": []
   },
   "outputs": [
    {
     "data": {
      "image/png": "[encoded data removed]",
      "text/plain": [
       "<Figure size 640x480 with 1 Axes>"
      ]
     },
     "metadata": {},
     "output_type": "display_data"
    }
   ],
   "source": [
    "sns.countplot(y='opening_eco', \\\n",
    "              data = dfopeningeco, \\\n",
    "              orient='h', \\\n",
    "              order=dfopeningeco['opening_eco'].value_counts().index)\n",
    "plt.ylabel('Opening Eco')\n",
    "plt.xlabel('Count')\n",
    "plt.show()"
   ]
  },
  {
   "cell_type": "code",
   "execution_count": 319,
   "id": "26faf020-ed43-4d51-9c38-a789d88942a7",
   "metadata": {
    "tags": []
   },
   "outputs": [
    {
     "data": {
      "text/plain": [
       "A00    0.050204\n",
       "C00    0.042078\n",
       "D00    0.036843\n",
       "B01    0.035696\n",
       "C41    0.034450\n",
       "         ...   \n",
       "A33    0.000050\n",
       "D22    0.000050\n",
       "E44    0.000050\n",
       "B58    0.000050\n",
       "D19    0.000050\n",
       "Name: opening_eco, Length: 365, dtype: float64"
      ]
     },
     "execution_count": 319,
     "metadata": {},
     "output_type": "execute_result"
    }
   ],
   "source": [
    "df.opening_eco.value_counts(normalize=True)"
   ]
  },
  {
   "cell_type": "markdown",
   "id": "54445bad-e536-4f2f-8e6e-5b993cdcfadd",
   "metadata": {},
   "source": [
    "As the plot shows, **A00** is the most winning **Opening Eco**, with 1007 games, representing 5.02% of the total count. "
   ]
  }
 ],
 "metadata": {
  "kernelspec": {
   "display_name": "Python 3 (ipykernel)",
   "language": "python",
   "name": "python3"
  },
  "language_info": {
   "codemirror_mode": {
    "name": "ipython",
    "version": 3
   },
   "file_extension": ".py",
   "mimetype": "text/x-python",
   "name": "python",
   "nbconvert_exporter": "python",
   "pygments_lexer": "ipython3",
   "version": "3.11.3"
  }
 },
 "nbformat": 4,
 "nbformat_minor": 5
}
